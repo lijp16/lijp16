{
  "nbformat": 4,
  "nbformat_minor": 0,
  "metadata": {
    "colab": {
      "provenance": [],
      "gpuType": "T4",
      "authorship_tag": "ABX9TyPoPKgJvOKD/aJtAqLu06aC",
      "include_colab_link": true
    },
    "kernelspec": {
      "name": "python3",
      "display_name": "Python 3"
    },
    "language_info": {
      "name": "python"
    },
    "accelerator": "GPU"
  },
  "cells": [
    {
      "cell_type": "markdown",
      "metadata": {
        "id": "view-in-github",
        "colab_type": "text"
      },
      "source": [
        "<a href=\"https://colab.research.google.com/github/lijp16/lijp16/blob/main/01_pytorch_workflow.ipynb\" target=\"_parent\"><img src=\"https://colab.research.google.com/assets/colab-badge.svg\" alt=\"Open In Colab\"/></a>"
      ]
    },
    {
      "cell_type": "code",
      "execution_count": 14,
      "metadata": {
        "id": "64beeaT0e-5_"
      },
      "outputs": [],
      "source": [
        "import torch\n",
        "from torch import nn\n",
        "import matplotlib.pyplot as plt"
      ]
    },
    {
      "cell_type": "markdown",
      "source": [
        "###PyTorch Workflow\n",
        "1. data(prepare and load)\n",
        "2. build model\n",
        "3. fitting model to data(training)\n",
        "4. improve model with experimentation\n",
        "5. making prediction and evaluating a model\n",
        "6. saving and loading a model"
      ],
      "metadata": {
        "id": "WtaqnSWQgzHe"
      }
    },
    {
      "cell_type": "code",
      "source": [
        "torch.__version__"
      ],
      "metadata": {
        "id": "WL9R6zoEhZUz",
        "colab": {
          "base_uri": "https://localhost:8080/",
          "height": 36
        },
        "outputId": "4ed551c6-ddcf-4476-9e84-1c7b5b2b8256"
      },
      "execution_count": 15,
      "outputs": [
        {
          "output_type": "execute_result",
          "data": {
            "text/plain": [
              "'2.4.1+cu121'"
            ],
            "application/vnd.google.colaboratory.intrinsic+json": {
              "type": "string"
            }
          },
          "metadata": {},
          "execution_count": 15
        }
      ]
    },
    {
      "cell_type": "markdown",
      "source": [
        "## 1. data preparing and loading\n",
        "\n",
        "type\n",
        "* text\n",
        "* audio\n",
        "* videos\n",
        "* dna\n",
        "* images\n",
        "* excel sheets\n",
        "\n",
        "ml in 2 parts:\n",
        "1. get data into number\n",
        "2. built model to find pattern\n",
        "\n",
        "\n",
        "use linear regression"
      ],
      "metadata": {
        "id": "k2qttscEe0dp"
      }
    },
    {
      "cell_type": "code",
      "source": [
        "#create *known* parameters\n",
        "weight = 0.7\n",
        "bias = 0.3\n",
        "\n",
        "start = 0\n",
        "end = 1\n",
        "step = 0.02\n",
        "X = torch.arange(start,end,step).unsqueeze(dim=1)\n",
        "Y = weight*X + bias\n",
        "\n",
        "X[:10],Y[:10]"
      ],
      "metadata": {
        "colab": {
          "base_uri": "https://localhost:8080/"
        },
        "id": "zWcgjdqwgXax",
        "outputId": "39bfc1f9-17ea-4643-b59f-618f02f5669b"
      },
      "execution_count": 16,
      "outputs": [
        {
          "output_type": "execute_result",
          "data": {
            "text/plain": [
              "(tensor([[0.0000],\n",
              "         [0.0200],\n",
              "         [0.0400],\n",
              "         [0.0600],\n",
              "         [0.0800],\n",
              "         [0.1000],\n",
              "         [0.1200],\n",
              "         [0.1400],\n",
              "         [0.1600],\n",
              "         [0.1800]]),\n",
              " tensor([[0.3000],\n",
              "         [0.3140],\n",
              "         [0.3280],\n",
              "         [0.3420],\n",
              "         [0.3560],\n",
              "         [0.3700],\n",
              "         [0.3840],\n",
              "         [0.3980],\n",
              "         [0.4120],\n",
              "         [0.4260]]))"
            ]
          },
          "metadata": {},
          "execution_count": 16
        }
      ]
    },
    {
      "cell_type": "code",
      "source": [
        "len(X),len(Y)"
      ],
      "metadata": {
        "colab": {
          "base_uri": "https://localhost:8080/"
        },
        "id": "ZuL7p1kChn6q",
        "outputId": "cdb5dbdc-2f1a-4323-e59d-362028c162dd"
      },
      "execution_count": 17,
      "outputs": [
        {
          "output_type": "execute_result",
          "data": {
            "text/plain": [
              "(50, 50)"
            ]
          },
          "metadata": {},
          "execution_count": 17
        }
      ]
    },
    {
      "cell_type": "code",
      "source": [
        "# split data into training set, validation set(not always) and test set\n",
        "\n",
        "train_split = int(0.8*len(X))\n",
        "X_train,Y_train = X[:train_split],Y[:train_split]\n",
        "X_test,Y_test = X[train_split:],Y[train_split:]\n",
        "\n",
        "len(X_train),len(Y_train),len(X_test),len(Y_test)"
      ],
      "metadata": {
        "colab": {
          "base_uri": "https://localhost:8080/"
        },
        "id": "IOJkzAfjiLmq",
        "outputId": "a1ea777f-ccec-4d46-f944-624df2ed0c91"
      },
      "execution_count": 18,
      "outputs": [
        {
          "output_type": "execute_result",
          "data": {
            "text/plain": [
              "(40, 40, 10, 10)"
            ]
          },
          "metadata": {},
          "execution_count": 18
        }
      ]
    },
    {
      "cell_type": "code",
      "source": [
        "#visualize data\n",
        "\n",
        "def plot_predictions(train_data = X_train,\n",
        "                     train_lables = Y_train,\n",
        "                     test_data = X_test,\n",
        "                     test_lables = Y_test,\n",
        "                     predictions = None):\n",
        "  \"\"\"\n",
        "  Plots training data, test data and comepare predictions\n",
        "  \"\"\"\n",
        "  plt.figure(figsize=(10,7))\n",
        "\n",
        "  plt.scatter(train_data, train_lables, c=\"b\", s=4, label=\"train data\")\n",
        "  plt.scatter(test_data, test_lables, c=\"g\", s=4, label=\"test data\")\n",
        "\n",
        "  if predictions is not None:\n",
        "    plt.scatter(test_data, predictions, c=\"r\", s=4, label=\"predictions\")\n",
        "\n",
        "  plt.legend(prop={\"size\":14});\n",
        "\n",
        "plot_predictions()"
      ],
      "metadata": {
        "colab": {
          "base_uri": "https://localhost:8080/",
          "height": 599
        },
        "id": "NdMt_fIElFPI",
        "outputId": "b791b0a5-575e-4137-bbbc-8b0fa880d2c2"
      },
      "execution_count": 19,
      "outputs": [
        {
          "output_type": "display_data",
          "data": {
            "text/plain": [
              "<Figure size 1000x700 with 1 Axes>"
            ],
            "image/png": "[encoded data removed]"
          },
          "metadata": {}
        }
      ]
    },
    {
      "cell_type": "code",
      "source": [
        "# bulid linear regression model\n",
        "\n",
        "class LinearRegressionModel(nn.Module):\n",
        "  def __init__(self):\n",
        "    super().__init__()\n",
        "    self.weights = nn.Parameter(torch.randn(1,\n",
        "                                            requires_grad=True,\n",
        "                                            dtype=torch.float))\n",
        "    self.bias = nn.Parameter(torch.randn(1,\n",
        "                                            requires_grad=True,\n",
        "                                            dtype=torch.float))\n",
        "  def forward(self, x:torch.Tensor) -> torch.Tensor:\n",
        "    return self.weights * x + self.bias\n"
      ],
      "metadata": {
        "id": "PkAFfJowomM5"
      },
      "execution_count": 20,
      "outputs": []
    },
    {
      "cell_type": "code",
      "source": [
        "torch.manual_seed(42)\n",
        "model_0 = LinearRegressionModel()\n",
        "list(model_0.parameters())"
      ],
      "metadata": {
        "colab": {
          "base_uri": "https://localhost:8080/"
        },
        "id": "vdQsqvt3dEqY",
        "outputId": "b73e9224-d200-4240-f4f7-7c3b68c7c163"
      },
      "execution_count": 21,
      "outputs": [
        {
          "output_type": "execute_result",
          "data": {
            "text/plain": [
              "[Parameter containing:\n",
              " tensor([0.3367], requires_grad=True),\n",
              " Parameter containing:\n",
              " tensor([0.1288], requires_grad=True)]"
            ]
          },
          "metadata": {},
          "execution_count": 21
        }
      ]
    },
    {
      "cell_type": "code",
      "source": [
        "#list named parameters\n",
        "model_0.state_dict()"
      ],
      "metadata": {
        "colab": {
          "base_uri": "https://localhost:8080/"
        },
        "id": "l4BxwuSSdN7X",
        "outputId": "d39b64e8-3a71-434f-e78b-2ca91e2cf7ba"
      },
      "execution_count": 22,
      "outputs": [
        {
          "output_type": "execute_result",
          "data": {
            "text/plain": [
              "OrderedDict([('weights', tensor([0.3367])), ('bias', tensor([0.1288]))])"
            ]
          },
          "metadata": {},
          "execution_count": 22
        }
      ]
    },
    {
      "cell_type": "code",
      "source": [
        "#making prediction using 'torch.inference_mode()'\n",
        "\n",
        "with torch.inference_mode():\n",
        "  y_preds = model_0(X_test)\n",
        "\n",
        "y_preds,Y_test"
      ],
      "metadata": {
        "id": "3O_286wUetyC",
        "colab": {
          "base_uri": "https://localhost:8080/"
        },
        "outputId": "9a6c84e8-4695-490b-9923-28476ca1c95e"
      },
      "execution_count": 23,
      "outputs": [
        {
          "output_type": "execute_result",
          "data": {
            "text/plain": [
              "(tensor([[0.3982],\n",
              "         [0.4049],\n",
              "         [0.4116],\n",
              "         [0.4184],\n",
              "         [0.4251],\n",
              "         [0.4318],\n",
              "         [0.4386],\n",
              "         [0.4453],\n",
              "         [0.4520],\n",
              "         [0.4588]]),\n",
              " tensor([[0.8600],\n",
              "         [0.8740],\n",
              "         [0.8880],\n",
              "         [0.9020],\n",
              "         [0.9160],\n",
              "         [0.9300],\n",
              "         [0.9440],\n",
              "         [0.9580],\n",
              "         [0.9720],\n",
              "         [0.9860]]))"
            ]
          },
          "metadata": {},
          "execution_count": 23
        }
      ]
    },
    {
      "cell_type": "code",
      "source": [
        "plot_predictions(predictions=y_preds)"
      ],
      "metadata": {
        "colab": {
          "base_uri": "https://localhost:8080/",
          "height": 599
        },
        "id": "cx0kHzmFez5m",
        "outputId": "5c8a0eb4-c4ca-41ef-903e-78afc6a86bcf"
      },
      "execution_count": 24,
      "outputs": [
        {
          "output_type": "display_data",
          "data": {
            "text/plain": [
              "<Figure size 1000x700 with 1 Axes>"
            ],
            "image/png": "[encoded data removed]"
          },
          "metadata": {}
        }
      ]
    },
    {
      "cell_type": "markdown",
      "source": [
        "### train model:for a model to move from unknown to some known perameter.\n",
        " use loss functions to show how poor or how wrong the prediction are. (lower is better)\n",
        " * things we need to train:\n",
        "1. loss function:how poor or how wrong the prediction are\n",
        "2. optimizer: takes into account the loss of a model and adjusts the model's parameter\n",
        " * in pytorch we need:\n",
        "1. a training loop\n",
        "2. a testing loop\n",
        "\n"
      ],
      "metadata": {
        "id": "v9xhxTy9hljZ"
      }
    },
    {
      "cell_type": "code",
      "source": [
        "#set up loss functions\n",
        "loss_fn = nn.L1Loss()\n",
        "\n",
        "#set up optimizer\n",
        "optimizer = torch.optim.SGD(params=model_0.parameters(),\n",
        "                            lr=0.001)"
      ],
      "metadata": {
        "id": "NDPTtU-9iF7p"
      },
      "execution_count": 34,
      "outputs": []
    },
    {
      "cell_type": "markdown",
      "source": [
        "### building training loop and a testing loop in pytorch\n",
        "\n",
        "* things we need in a training loop:\n",
        "0. loop through the data\n",
        "1. forward pass\n",
        "2. calculate the loss (compare forward pass predictions to ground truth labels)\n",
        "3. optimizer zero grad\n",
        "4. loss backward - move backwards through the network to calculate the gradients of each of tne parameters of our model with respect to the loss\n",
        "5. optimizer step - use the optimizer to adjust model's parameters to try and improve the loss"
      ],
      "metadata": {
        "id": "yjqUK317ry16"
      }
    },
    {
      "cell_type": "code",
      "source": [
        "torch.manual_seed(42)\n",
        "epochs = 10\n",
        "\n",
        "for epochs in range(epochs):\n",
        "  model_0.train() #set model to training model\n",
        "  y_preds = model_0(X_train) #forward pass\n",
        "  loss = loss_fn(y_preds,Y_train) #calculate loss\n",
        "  optimizer.zero_grad()\n",
        "  loss.backward() #proform backpropagation\n",
        "  optimizer.step() #use the optimizer to adjust model's parameters to try and improve the loss\n",
        "  model_0.eval() #turn off gradient tracking\n",
        "  if epochs%1==0:\n",
        "    print(model_0.state_dict())\n",
        "    print(f\"loss:{loss}\")"
      ],
      "metadata": {
        "colab": {
          "base_uri": "https://localhost:8080/"
        },
        "id": "uD9ch_jftXna",
        "outputId": "0183164b-3eed-4f21-b3bb-ef0f257ec349"
      },
      "execution_count": 35,
      "outputs": [
        {
          "output_type": "stream",
          "name": "stdout",
          "text": [
            "OrderedDict([('weights', tensor([0.6986])), ('bias', tensor([0.3083]))])\n",
            "loss:0.008932482451200485\n",
            "OrderedDict([('weights', tensor([0.6983])), ('bias', tensor([0.3073]))])\n",
            "loss:0.007780400104820728\n",
            "OrderedDict([('weights', tensor([0.6979])), ('bias', tensor([0.3063]))])\n",
            "loss:0.006628311239182949\n",
            "OrderedDict([('weights', tensor([0.6975])), ('bias', tensor([0.3053]))])\n",
            "loss:0.005476228892803192\n",
            "OrderedDict([('weights', tensor([0.6971])), ('bias', tensor([0.3043]))])\n",
            "loss:0.004324139561504126\n",
            "OrderedDict([('weights', tensor([0.6967])), ('bias', tensor([0.3033]))])\n",
            "loss:0.003172061638906598\n",
            "OrderedDict([('weights', tensor([0.6963])), ('bias', tensor([0.3023]))])\n",
            "loss:0.002019981388002634\n",
            "OrderedDict([('weights', tensor([0.6962])), ('bias', tensor([0.3017]))])\n",
            "loss:0.0009942218894138932\n",
            "OrderedDict([('weights', tensor([0.6963])), ('bias', tensor([0.3016]))])\n",
            "loss:0.0007778831059113145\n",
            "OrderedDict([('weights', tensor([0.6965])), ('bias', tensor([0.3015]))])\n",
            "loss:0.0007392846164293587\n"
          ]
        }
      ]
    },
    {
      "cell_type": "code",
      "source": [
        "with torch.inference_mode():\n",
        "  y_preds = model_0(X_test)\n",
        "plot_predictions(predictions=y_preds)"
      ],
      "metadata": {
        "colab": {
          "base_uri": "https://localhost:8080/",
          "height": 599
        },
        "id": "uso1gaLu7cW2",
        "outputId": "1c3c3fcf-fe94-4ba8-d567-2f94d0284298"
      },
      "execution_count": 36,
      "outputs": [
        {
          "output_type": "display_data",
          "data": {
            "text/plain": [
              "<Figure size 1000x700 with 1 Axes>"
            ],
            "image/png": "[encoded data removed]"
          },
          "metadata": {}
        }
      ]
    }
  ]
}