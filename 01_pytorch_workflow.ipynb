{
  "nbformat": 4,
  "nbformat_minor": 0,
  "metadata": {
    "colab": {
      "provenance": [],
      "gpuType": "T4",
      "authorship_tag": "ABX9TyO0x/tcWGgvWShmJOf9rOrf",
      "include_colab_link": true
    },
    "kernelspec": {
      "name": "python3",
      "display_name": "Python 3"
    },
    "language_info": {
      "name": "python"
    },
    "accelerator": "GPU"
  },
  "cells": [
    {
      "cell_type": "markdown",
      "metadata": {
        "id": "view-in-github",
        "colab_type": "text"
      },
      "source": [
        "<a href=\"https://colab.research.google.com/github/lijp16/lijp16/blob/main/01_pytorch_workflow.ipynb\" target=\"_parent\"><img src=\"https://colab.research.google.com/assets/colab-badge.svg\" alt=\"Open In Colab\"/></a>"
      ]
    },
    {
      "cell_type": "code",
      "execution_count": 14,
      "metadata": {
        "id": "64beeaT0e-5_"
      },
      "outputs": [],
      "source": [
        "import torch\n",
        "from torch import nn\n",
        "import matplotlib.pyplot as plt"
      ]
    },
    {
      "cell_type": "markdown",
      "source": [
        "###PyTorch Workflow\n",
        "1. data(prepare and load)\n",
        "2. build model\n",
        "3. fitting model to data(training)\n",
        "4. improve model with experimentation\n",
        "5. making prediction and evaluating a model\n",
        "6. saving and loading a model"
      ],
      "metadata": {
        "id": "WtaqnSWQgzHe"
      }
    },
    {
      "cell_type": "code",
      "source": [
        "torch.__version__"
      ],
      "metadata": {
        "id": "WL9R6zoEhZUz",
        "colab": {
          "base_uri": "https://localhost:8080/",
          "height": 36
        },
        "outputId": "da2a3703-0b52-4c87-ed78-8e61ee2b092b"
      },
      "execution_count": 15,
      "outputs": [
        {
          "output_type": "execute_result",
          "data": {
            "text/plain": [
              "'2.4.1+cu121'"
            ],
            "application/vnd.google.colaboratory.intrinsic+json": {
              "type": "string"
            }
          },
          "metadata": {},
          "execution_count": 15
        }
      ]
    },
    {
      "cell_type": "markdown",
      "source": [
        "## 1. data preparing and loading\n",
        "\n",
        "type\n",
        "* text\n",
        "* audio\n",
        "* videos\n",
        "* dna\n",
        "* images\n",
        "* excel sheets\n",
        "\n",
        "ml in 2 parts:\n",
        "1. get data into number\n",
        "2. built model to find pattern\n",
        "\n",
        "\n",
        "use linear regression"
      ],
      "metadata": {
        "id": "k2qttscEe0dp"
      }
    },
    {
      "cell_type": "code",
      "source": [
        "#create *known* parameters\n",
        "weight = 0.7\n",
        "bias = 0.3\n",
        "\n",
        "start = 0\n",
        "end = 1\n",
        "step = 0.02\n",
        "X = torch.arange(start,end,step).unsqueeze(dim=1)\n",
        "Y = weight*X + bias\n",
        "\n",
        "X[:10],Y[:10]"
      ],
      "metadata": {
        "colab": {
          "base_uri": "https://localhost:8080/"
        },
        "id": "zWcgjdqwgXax",
        "outputId": "815b6217-a84f-4349-d9cc-d8b4a43882b1"
      },
      "execution_count": 16,
      "outputs": [
        {
          "output_type": "execute_result",
          "data": {
            "text/plain": [
              "(tensor([[0.0000],\n",
              "         [0.0200],\n",
              "         [0.0400],\n",
              "         [0.0600],\n",
              "         [0.0800],\n",
              "         [0.1000],\n",
              "         [0.1200],\n",
              "         [0.1400],\n",
              "         [0.1600],\n",
              "         [0.1800]]),\n",
              " tensor([[0.3000],\n",
              "         [0.3140],\n",
              "         [0.3280],\n",
              "         [0.3420],\n",
              "         [0.3560],\n",
              "         [0.3700],\n",
              "         [0.3840],\n",
              "         [0.3980],\n",
              "         [0.4120],\n",
              "         [0.4260]]))"
            ]
          },
          "metadata": {},
          "execution_count": 16
        }
      ]
    },
    {
      "cell_type": "code",
      "source": [
        "len(X),len(Y)"
      ],
      "metadata": {
        "colab": {
          "base_uri": "https://localhost:8080/"
        },
        "id": "ZuL7p1kChn6q",
        "outputId": "312dff37-b924-4d60-a611-24b7fad9bc89"
      },
      "execution_count": 17,
      "outputs": [
        {
          "output_type": "execute_result",
          "data": {
            "text/plain": [
              "(50, 50)"
            ]
          },
          "metadata": {},
          "execution_count": 17
        }
      ]
    },
    {
      "cell_type": "code",
      "source": [
        "# split data into training set, validation set(not always) and test set\n",
        "\n",
        "train_split = int(0.8*len(X))\n",
        "X_train,Y_train = X[:train_split],Y[:train_split]\n",
        "X_test,Y_test = X[train_split:],Y[train_split:]\n",
        "\n",
        "len(X_train),len(Y_train),len(X_test),len(Y_test)"
      ],
      "metadata": {
        "colab": {
          "base_uri": "https://localhost:8080/"
        },
        "id": "IOJkzAfjiLmq",
        "outputId": "ce55c94d-f62f-4099-c542-71c24f96f741"
      },
      "execution_count": 18,
      "outputs": [
        {
          "output_type": "execute_result",
          "data": {
            "text/plain": [
              "(40, 40, 10, 10)"
            ]
          },
          "metadata": {},
          "execution_count": 18
        }
      ]
    },
    {
      "cell_type": "code",
      "source": [
        "#visualize data\n",
        "\n",
        "def plot_predictions(train_data = X_train,\n",
        "                     train_lables = Y_train,\n",
        "                     test_data = X_test,\n",
        "                     test_lables = Y_test,\n",
        "                     predictions = None):\n",
        "  \"\"\"\n",
        "  Plots training data, test data and comepare predictions\n",
        "  \"\"\"\n",
        "  plt.figure(figsize=(10,7))\n",
        "\n",
        "  plt.scatter(train_data, train_lables, c=\"b\", s=4, label=\"train data\")\n",
        "  plt.scatter(test_data, test_lables, c=\"g\", s=4, label=\"test data\")\n",
        "\n",
        "  if predictions is not None:\n",
        "    plt.scatter(test_data, predictions, c=\"r\", s=4, label=\"predictions\")\n",
        "\n",
        "  plt.legend(prop={\"size\":14});\n",
        "\n",
        "plot_predictions()"
      ],
      "metadata": {
        "colab": {
          "base_uri": "https://localhost:8080/",
          "height": 599
        },
        "id": "NdMt_fIElFPI",
        "outputId": "f93b4ab9-1db1-4d7e-b5cb-5b961ca4b121"
      },
      "execution_count": 23,
      "outputs": [
        {
          "output_type": "display_data",
          "data": {
            "text/plain": [
              "<Figure size 1000x700 with 1 Axes>"
            ],
            "image/png": "[encoded data removed]"
          },
          "metadata": {}
        }
      ]
    },
    {
      "cell_type": "code",
      "source": [
        "# bulid linear regression model\n",
        "\n",
        "class LinearRegressionModel(nn.Module):\n",
        "  def __init__(self):\n",
        "    super().__init__()\n",
        "    self.weights = nn.Parameter(torch.randn(1,\n",
        "                                            requires_grad=True,\n",
        "                                            dtype=torch.float))\n",
        "    self.bias = nn.Parameter(torch.randn(1,\n",
        "                                            requires_grad=True,\n",
        "                                            dtype=torch.float))\n",
        "  def forward(self, x:torch.Tensor) -> torch.Tensor:\n",
        "    return self.weights * x + self.bias"
      ],
      "metadata": {
        "id": "PkAFfJowomM5"
      },
      "execution_count": 24,
      "outputs": []
    }
  ]
}