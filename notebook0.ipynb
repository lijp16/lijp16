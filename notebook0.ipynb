{
  "cells": [
    {
      "cell_type": "markdown",
      "metadata": {
        "id": "view-in-github",
        "colab_type": "text"
      },
      "source": [
        "<a href=\"https://colab.research.google.com/github/lijp16/lijp16/blob/main/notebook0.ipynb\" target=\"_parent\"><img src=\"https://colab.research.google.com/assets/colab-badge.svg\" alt=\"Open In Colab\"/></a>"
      ]
    },
    {
      "cell_type": "code",
      "execution_count": 1,
      "metadata": {
        "colab": {
          "base_uri": "https://localhost:8080/"
        },
        "id": "qo47fsmKha6b",
        "outputId": "fd33f8e1-4eba-4621-da39-ce953ea93418"
      },
      "outputs": [
        {
          "output_type": "stream",
          "name": "stdout",
          "text": [
            "2.4.0+cu121\n"
          ]
        }
      ],
      "source": [
        "import torch\n",
        "import pandas as pd\n",
        "import numpy as np\n",
        "import matplotlib.pyplot as plt\n",
        "print(torch.__version__)\n"
      ]
    },
    {
      "cell_type": "markdown",
      "source": [],
      "metadata": {
        "id": "INopCIfoAqt-"
      }
    },
    {
      "cell_type": "markdown",
      "source": [
        "##Introduction to Tensors\n",
        "\n",
        "###Creating\n"
      ],
      "metadata": {
        "id": "X1EeY3UCjtia"
      }
    },
    {
      "cell_type": "code",
      "source": [
        "#scalar\n",
        "scalar = torch.tensor(7)\n",
        "scalar"
      ],
      "metadata": {
        "colab": {
          "base_uri": "https://localhost:8080/"
        },
        "id": "AFoPU_9ejzGy",
        "outputId": "445bd813-3734-4e1d-afd0-f47c1a4a1009"
      },
      "execution_count": 2,
      "outputs": [
        {
          "output_type": "execute_result",
          "data": {
            "text/plain": [
              "tensor(7)"
            ]
          },
          "metadata": {},
          "execution_count": 2
        }
      ]
    },
    {
      "cell_type": "code",
      "source": [
        "scalar.ndim\n"
      ],
      "metadata": {
        "colab": {
          "base_uri": "https://localhost:8080/"
        },
        "id": "MbNWosf8klwQ",
        "outputId": "4951c683-469f-4574-dfb8-c83519a3687f"
      },
      "execution_count": 3,
      "outputs": [
        {
          "output_type": "execute_result",
          "data": {
            "text/plain": [
              "0"
            ]
          },
          "metadata": {},
          "execution_count": 3
        }
      ]
    },
    {
      "cell_type": "code",
      "source": [
        "#get tensor back as python int\n",
        "scalar.item()"
      ],
      "metadata": {
        "colab": {
          "base_uri": "https://localhost:8080/"
        },
        "id": "Y0b1M0GGkqS3",
        "outputId": "beb6f79b-e249-4907-80e7-453b61003192"
      },
      "execution_count": 4,
      "outputs": [
        {
          "output_type": "execute_result",
          "data": {
            "text/plain": [
              "7"
            ]
          },
          "metadata": {},
          "execution_count": 4
        }
      ]
    },
    {
      "cell_type": "code",
      "source": [
        "#vector\n",
        "vector = torch.tensor([7,7])\n",
        "vector"
      ],
      "metadata": {
        "colab": {
          "base_uri": "https://localhost:8080/"
        },
        "id": "NOs2haYUk2hv",
        "outputId": "209774bf-270d-40ea-954d-32621eddcfb5"
      },
      "execution_count": 5,
      "outputs": [
        {
          "output_type": "execute_result",
          "data": {
            "text/plain": [
              "tensor([7, 7])"
            ]
          },
          "metadata": {},
          "execution_count": 5
        }
      ]
    },
    {
      "cell_type": "code",
      "source": [
        "vector.ndim"
      ],
      "metadata": {
        "colab": {
          "base_uri": "https://localhost:8080/"
        },
        "id": "fQ7eti7Vlnyr",
        "outputId": "5d9a7894-dfde-49ff-9f35-afdedcfc7dc0"
      },
      "execution_count": 6,
      "outputs": [
        {
          "output_type": "execute_result",
          "data": {
            "text/plain": [
              "1"
            ]
          },
          "metadata": {},
          "execution_count": 6
        }
      ]
    },
    {
      "cell_type": "code",
      "source": [
        "vector.shape"
      ],
      "metadata": {
        "colab": {
          "base_uri": "https://localhost:8080/"
        },
        "id": "Y5z0NuN5l0p7",
        "outputId": "4e4972c7-57ba-40fe-8339-dca0559bf27b"
      },
      "execution_count": 7,
      "outputs": [
        {
          "output_type": "execute_result",
          "data": {
            "text/plain": [
              "torch.Size([2])"
            ]
          },
          "metadata": {},
          "execution_count": 7
        }
      ]
    },
    {
      "cell_type": "code",
      "source": [
        "#martix\n",
        "martix = torch.tensor([[7,8],\n",
        "                      [9,10]])\n",
        "martix"
      ],
      "metadata": {
        "colab": {
          "base_uri": "https://localhost:8080/"
        },
        "id": "K2nDx2jnl4s3",
        "outputId": "908bb06d-d110-4012-d1c0-f273e3509767"
      },
      "execution_count": 8,
      "outputs": [
        {
          "output_type": "execute_result",
          "data": {
            "text/plain": [
              "tensor([[ 7,  8],\n",
              "        [ 9, 10]])"
            ]
          },
          "metadata": {},
          "execution_count": 8
        }
      ]
    },
    {
      "cell_type": "code",
      "source": [
        "martix.ndim"
      ],
      "metadata": {
        "colab": {
          "base_uri": "https://localhost:8080/"
        },
        "id": "-Tz5eL8rmVt3",
        "outputId": "a1cf6959-8a20-491c-8953-3ae3a6b44d7e"
      },
      "execution_count": 9,
      "outputs": [
        {
          "output_type": "execute_result",
          "data": {
            "text/plain": [
              "2"
            ]
          },
          "metadata": {},
          "execution_count": 9
        }
      ]
    },
    {
      "cell_type": "code",
      "source": [
        "martix.shape"
      ],
      "metadata": {
        "colab": {
          "base_uri": "https://localhost:8080/"
        },
        "id": "I7UuKJwsmsVQ",
        "outputId": "fda2ab6a-9fb2-4b79-ce4f-5fb0729bb6d8"
      },
      "execution_count": 10,
      "outputs": [
        {
          "output_type": "execute_result",
          "data": {
            "text/plain": [
              "torch.Size([2, 2])"
            ]
          },
          "metadata": {},
          "execution_count": 10
        }
      ]
    },
    {
      "cell_type": "code",
      "source": [
        "tensor = torch.tensor([[[1,2,3],\n",
        "                        [4,5,6],\n",
        "                        [7,8,9]]])\n",
        "tensor"
      ],
      "metadata": {
        "colab": {
          "base_uri": "https://localhost:8080/"
        },
        "id": "yJ11wh76mulv",
        "outputId": "0283dba6-151f-40ee-fe6f-5dcdbdefb3cb"
      },
      "execution_count": 11,
      "outputs": [
        {
          "output_type": "execute_result",
          "data": {
            "text/plain": [
              "tensor([[[1, 2, 3],\n",
              "         [4, 5, 6],\n",
              "         [7, 8, 9]]])"
            ]
          },
          "metadata": {},
          "execution_count": 11
        }
      ]
    },
    {
      "cell_type": "code",
      "source": [
        "tensor.ndim"
      ],
      "metadata": {
        "colab": {
          "base_uri": "https://localhost:8080/"
        },
        "id": "NxQlO-J-oGnn",
        "outputId": "bdec0c72-3199-410e-b0e9-8147acce4568"
      },
      "execution_count": 12,
      "outputs": [
        {
          "output_type": "execute_result",
          "data": {
            "text/plain": [
              "3"
            ]
          },
          "metadata": {},
          "execution_count": 12
        }
      ]
    },
    {
      "cell_type": "code",
      "source": [
        "tensor.shape"
      ],
      "metadata": {
        "colab": {
          "base_uri": "https://localhost:8080/"
        },
        "id": "sQ_t9odwoNGh",
        "outputId": "6c175c18-904d-4f27-bbf7-78b131b2f67d"
      },
      "execution_count": 13,
      "outputs": [
        {
          "output_type": "execute_result",
          "data": {
            "text/plain": [
              "torch.Size([1, 3, 3])"
            ]
          },
          "metadata": {},
          "execution_count": 13
        }
      ]
    },
    {
      "cell_type": "markdown",
      "source": [
        "###Random tensors"
      ],
      "metadata": {
        "id": "U1UOTB7ko5vK"
      }
    },
    {
      "cell_type": "markdown",
      "source": [
        " a machine learning model often starts out with large random tensors of numbers and adjusts these random numbers as it works through data to better represent it.\n",
        "\n",
        "In essence:\n",
        "\n",
        "Start with random numbers -> look at data -> update random numbers -> look at data -> update random numbers..."
      ],
      "metadata": {
        "id": "QAP03BGRpVB6"
      }
    },
    {
      "cell_type": "code",
      "source": [
        " #creat a random tensor of size (3,4)\n",
        " random_tensor = torch.rand(3,4)\n",
        " random_tensor"
      ],
      "metadata": {
        "colab": {
          "base_uri": "https://localhost:8080/"
        },
        "id": "S1oZZNn1pfOw",
        "outputId": "202677ff-cb23-4df9-9414-8a1b2c4db0cb"
      },
      "execution_count": 14,
      "outputs": [
        {
          "output_type": "execute_result",
          "data": {
            "text/plain": [
              "tensor([[0.4671, 0.8568, 0.7073, 0.3717],\n",
              "        [0.7087, 0.6044, 0.2399, 0.0672],\n",
              "        [0.7934, 0.4516, 0.3137, 0.6398]])"
            ]
          },
          "metadata": {},
          "execution_count": 14
        }
      ]
    },
    {
      "cell_type": "code",
      "source": [
        "#creat a random tensor with similar shape to an image tensor\n",
        "random_image_size_tensor = torch.rand(size=(224,224,3))#height,width,colour channels\n",
        "random_image_size_tensor.shape,random_image_size_tensor.ndim"
      ],
      "metadata": {
        "colab": {
          "base_uri": "https://localhost:8080/"
        },
        "id": "75RIJ1ftqbwl",
        "outputId": "19e0c9bb-2d6c-4807-f202-5543e4ff2877"
      },
      "execution_count": 15,
      "outputs": [
        {
          "output_type": "execute_result",
          "data": {
            "text/plain": [
              "(torch.Size([224, 224, 3]), 3)"
            ]
          },
          "metadata": {},
          "execution_count": 15
        }
      ]
    },
    {
      "cell_type": "markdown",
      "source": [
        "###01tensor"
      ],
      "metadata": {
        "id": "U-I3t1SuwzdV"
      }
    },
    {
      "cell_type": "code",
      "source": [
        "#create all 0 or all 1 tensor\n",
        "zeros = torch.zeros(size=(3,4))\n",
        "ones = torch.ones(size=(3,4))\n",
        "zeros\n",
        "ones"
      ],
      "metadata": {
        "colab": {
          "base_uri": "https://localhost:8080/"
        },
        "id": "VtrrEPb1w1Pw",
        "outputId": "97b46d87-7a38-49ad-d4ce-fc8405b865b2"
      },
      "execution_count": 16,
      "outputs": [
        {
          "output_type": "execute_result",
          "data": {
            "text/plain": [
              "tensor([[1., 1., 1., 1.],\n",
              "        [1., 1., 1., 1.],\n",
              "        [1., 1., 1., 1.]])"
            ]
          },
          "metadata": {},
          "execution_count": 16
        }
      ]
    },
    {
      "cell_type": "code",
      "source": [
        "ones.dtype"
      ],
      "metadata": {
        "colab": {
          "base_uri": "https://localhost:8080/"
        },
        "id": "Ez-wbJ6cxeGQ",
        "outputId": "756c7624-2581-4d23-8942-a5b7176ffc3d"
      },
      "execution_count": 17,
      "outputs": [
        {
          "output_type": "execute_result",
          "data": {
            "text/plain": [
              "torch.float32"
            ]
          },
          "metadata": {},
          "execution_count": 17
        }
      ]
    },
    {
      "cell_type": "markdown",
      "source": [
        "###creating a range of tensors and tensors-like"
      ],
      "metadata": {
        "id": "6oxlmUsIyUz9"
      }
    },
    {
      "cell_type": "code",
      "source": [
        "#use torch.range()\n",
        "one_to_ten = torch.arange(1,11)\n",
        "one_to_ten"
      ],
      "metadata": {
        "colab": {
          "base_uri": "https://localhost:8080/"
        },
        "id": "lLps6kZPyewv",
        "outputId": "f596953a-8aaa-4598-e125-e84362c616c6"
      },
      "execution_count": 18,
      "outputs": [
        {
          "output_type": "execute_result",
          "data": {
            "text/plain": [
              "tensor([ 1,  2,  3,  4,  5,  6,  7,  8,  9, 10])"
            ]
          },
          "metadata": {},
          "execution_count": 18
        }
      ]
    },
    {
      "cell_type": "code",
      "source": [
        "one_to_ten_2 = torch.arange(start=0,end=1000,step=77)\n",
        "one_to_ten_2"
      ],
      "metadata": {
        "colab": {
          "base_uri": "https://localhost:8080/"
        },
        "id": "0Uk-gjyyy9Fr",
        "outputId": "cd29ffd2-8362-420d-fd4c-b27017edfb20"
      },
      "execution_count": 19,
      "outputs": [
        {
          "output_type": "execute_result",
          "data": {
            "text/plain": [
              "tensor([  0,  77, 154, 231, 308, 385, 462, 539, 616, 693, 770, 847, 924])"
            ]
          },
          "metadata": {},
          "execution_count": 19
        }
      ]
    },
    {
      "cell_type": "code",
      "source": [
        "#creating tensors like\n",
        "ten_zeros = torch.zeros_like(input=one_to_ten)\n",
        "ten_zeros"
      ],
      "metadata": {
        "colab": {
          "base_uri": "https://localhost:8080/"
        },
        "id": "XVgbcrK7zXLc",
        "outputId": "220a8cbf-e7af-4a38-f61d-ca38d8c11709"
      },
      "execution_count": 20,
      "outputs": [
        {
          "output_type": "execute_result",
          "data": {
            "text/plain": [
              "tensor([0, 0, 0, 0, 0, 0, 0, 0, 0, 0])"
            ]
          },
          "metadata": {},
          "execution_count": 20
        }
      ]
    },
    {
      "cell_type": "markdown",
      "source": [
        "###tensor datatype\n",
        "**Note**Tensor datatype is one of the 3 big issue with pytorch & dl:\n",
        "1. Tensors not right datatype\n",
        "2. Tensor not right shape\n",
        "3. Tensor not on right device"
      ],
      "metadata": {
        "id": "n2adA01N2706"
      }
    },
    {
      "cell_type": "code",
      "source": [
        "tensor_none = torch.tensor([3.0,6.0,9.0],dtype=None,#what datatype is the tensor(e.g. float16,float32...)\n",
        "                              device=None,#what device is tensor on\n",
        "                              requires_grad=False)#whether or not track gradients with tensor operations\n",
        "tensor_none"
      ],
      "metadata": {
        "colab": {
          "base_uri": "https://localhost:8080/"
        },
        "id": "l8Dm0is50MZR",
        "outputId": "527af409-6a1b-4f42-c11c-7b5fc2ed05b1"
      },
      "execution_count": 21,
      "outputs": [
        {
          "output_type": "execute_result",
          "data": {
            "text/plain": [
              "tensor([3., 6., 9.])"
            ]
          },
          "metadata": {},
          "execution_count": 21
        }
      ]
    },
    {
      "cell_type": "code",
      "source": [
        "float_16_tensor = tensor_none.type(torch.float16)\n",
        "float_16_tensor"
      ],
      "metadata": {
        "colab": {
          "base_uri": "https://localhost:8080/"
        },
        "id": "4t6NfhEx4qg_",
        "outputId": "70812fc4-5968-4850-a3fa-a105cf3b7709"
      },
      "execution_count": 22,
      "outputs": [
        {
          "output_type": "execute_result",
          "data": {
            "text/plain": [
              "tensor([3., 6., 9.], dtype=torch.float16)"
            ]
          },
          "metadata": {},
          "execution_count": 22
        }
      ]
    },
    {
      "cell_type": "code",
      "source": [
        "tensor_none*float_16_tensor"
      ],
      "metadata": {
        "id": "iKDuOtff4-sR",
        "colab": {
          "base_uri": "https://localhost:8080/"
        },
        "outputId": "4a153e26-3b42-4e88-ba87-de63db0d6c9b"
      },
      "execution_count": 23,
      "outputs": [
        {
          "output_type": "execute_result",
          "data": {
            "text/plain": [
              "tensor([ 9., 36., 81.])"
            ]
          },
          "metadata": {},
          "execution_count": 23
        }
      ]
    },
    {
      "cell_type": "markdown",
      "source": [
        "###gtting info from tensors(tensor atrtribute)\n",
        "\n",
        "1. datatype: tensor.dtype\n",
        "2. devices: tensor.device\n",
        "3. shape: tensor.shape"
      ],
      "metadata": {
        "id": "5D4IDNjctzGU"
      }
    },
    {
      "cell_type": "code",
      "source": [
        "#creat a tensor\n",
        "some_tensor = torch.rand(3,4)\n",
        "some_tensor"
      ],
      "metadata": {
        "colab": {
          "base_uri": "https://localhost:8080/"
        },
        "id": "OIfOKlaouOQU",
        "outputId": "621d757a-9ac8-4b4d-ae02-6f933b7352ab"
      },
      "execution_count": 24,
      "outputs": [
        {
          "output_type": "execute_result",
          "data": {
            "text/plain": [
              "tensor([[0.6914, 0.3059, 0.4428, 0.4753],\n",
              "        [0.4659, 0.1733, 0.9888, 0.6191],\n",
              "        [0.0048, 0.8256, 0.9100, 0.7694]])"
            ]
          },
          "metadata": {},
          "execution_count": 24
        }
      ]
    },
    {
      "cell_type": "code",
      "source": [
        "#get info\n",
        "print(some_tensor)\n",
        "print(f\"dtype: {some_tensor.dtype}\")\n",
        "print(f\"shape: {some_tensor.shape}\")\n",
        "print(f\"device: {some_tensor.device}\")"
      ],
      "metadata": {
        "colab": {
          "base_uri": "https://localhost:8080/"
        },
        "id": "4DE1p9eFurXG",
        "outputId": "4ffc61f0-2b19-4439-d85e-f76a461e6921"
      },
      "execution_count": 25,
      "outputs": [
        {
          "output_type": "stream",
          "name": "stdout",
          "text": [
            "tensor([[0.6914, 0.3059, 0.4428, 0.4753],\n",
            "        [0.4659, 0.1733, 0.9888, 0.6191],\n",
            "        [0.0048, 0.8256, 0.9100, 0.7694]])\n",
            "dtype: torch.float32\n",
            "shape: torch.Size([3, 4])\n",
            "device: cpu\n"
          ]
        }
      ]
    },
    {
      "cell_type": "markdown",
      "source": [
        "###Manipulating Tensors(tensor operations)（张量操作)\n",
        "\n",
        "Tensor operations include:\n",
        "* addition+\n",
        "* subtraction-\n",
        "* multiplication (element-wise)*\n",
        "* division/\n",
        "* matrix multiplication矩阵*\n",
        "\n",
        "\n"
      ],
      "metadata": {
        "id": "m6jJVdWA1SJz"
      }
    },
    {
      "cell_type": "code",
      "source": [
        "#creat a tensor and operate it\n",
        "tensor = torch.tensor([1,2,3])\n",
        "tensor + 10"
      ],
      "metadata": {
        "colab": {
          "base_uri": "https://localhost:8080/"
        },
        "id": "BRLpB7fx1uQD",
        "outputId": "8a940f69-1621-495e-a10a-8b753d03d5b8"
      },
      "execution_count": 26,
      "outputs": [
        {
          "output_type": "execute_result",
          "data": {
            "text/plain": [
              "tensor([11, 12, 13])"
            ]
          },
          "metadata": {},
          "execution_count": 26
        }
      ]
    },
    {
      "cell_type": "code",
      "source": [
        "torch.add(tensor,10)"
      ],
      "metadata": {
        "colab": {
          "base_uri": "https://localhost:8080/"
        },
        "id": "ZU0SXKCm33Gk",
        "outputId": "8490754c-783f-443a-f3f5-fac79d45b859"
      },
      "execution_count": 27,
      "outputs": [
        {
          "output_type": "execute_result",
          "data": {
            "text/plain": [
              "tensor([11, 12, 13])"
            ]
          },
          "metadata": {},
          "execution_count": 27
        }
      ]
    },
    {
      "cell_type": "code",
      "source": [
        "tensor - 10"
      ],
      "metadata": {
        "colab": {
          "base_uri": "https://localhost:8080/"
        },
        "id": "4EK_ALii38Kn",
        "outputId": "0914cc8b-d015-43b9-bf9d-e2122f4f0caf"
      },
      "execution_count": 28,
      "outputs": [
        {
          "output_type": "execute_result",
          "data": {
            "text/plain": [
              "tensor([-9, -8, -7])"
            ]
          },
          "metadata": {},
          "execution_count": 28
        }
      ]
    },
    {
      "cell_type": "code",
      "source": [
        "tensor * 10"
      ],
      "metadata": {
        "colab": {
          "base_uri": "https://localhost:8080/"
        },
        "id": "VCF5Xek93-qv",
        "outputId": "66236ac5-bfab-45e2-bf17-6e5ce8a13bd8"
      },
      "execution_count": 29,
      "outputs": [
        {
          "output_type": "execute_result",
          "data": {
            "text/plain": [
              "tensor([10, 20, 30])"
            ]
          },
          "metadata": {},
          "execution_count": 29
        }
      ]
    },
    {
      "cell_type": "code",
      "source": [
        "tensor / 10"
      ],
      "metadata": {
        "colab": {
          "base_uri": "https://localhost:8080/"
        },
        "id": "YWNGw_UP4BAM",
        "outputId": "523284f0-6453-478f-de7d-462d616602f1"
      },
      "execution_count": 30,
      "outputs": [
        {
          "output_type": "execute_result",
          "data": {
            "text/plain": [
              "tensor([0.1000, 0.2000, 0.3000])"
            ]
          },
          "metadata": {},
          "execution_count": 30
        }
      ]
    },
    {
      "cell_type": "code",
      "source": [
        "tensor"
      ],
      "metadata": {
        "colab": {
          "base_uri": "https://localhost:8080/"
        },
        "id": "hMJef9ze4Da7",
        "outputId": "18f63bca-ec0b-4472-c4d5-7a09bdb729ef"
      },
      "execution_count": 31,
      "outputs": [
        {
          "output_type": "execute_result",
          "data": {
            "text/plain": [
              "tensor([1, 2, 3])"
            ]
          },
          "metadata": {},
          "execution_count": 31
        }
      ]
    },
    {
      "cell_type": "code",
      "source": [
        "#reassign tensor to change\n",
        "tensor = tensor * 10\n",
        "tensor"
      ],
      "metadata": {
        "colab": {
          "base_uri": "https://localhost:8080/"
        },
        "id": "q2GZKcnl4IC4",
        "outputId": "004d5599-a66f-4fd6-b3be-ae35bc81990d"
      },
      "execution_count": 32,
      "outputs": [
        {
          "output_type": "execute_result",
          "data": {
            "text/plain": [
              "tensor([10, 20, 30])"
            ]
          },
          "metadata": {},
          "execution_count": 32
        }
      ]
    },
    {
      "cell_type": "code",
      "source": [],
      "metadata": {
        "id": "UjEMM7ZK5Nzb"
      },
      "execution_count": 32,
      "outputs": []
    },
    {
      "cell_type": "markdown",
      "source": [
        "###matrix multiplication\n",
        "\n",
        "two main way:\n",
        "1. element-wise multiplication(一个数乘一个矩阵)\n",
        "2. matrix multiplication\n",
        "\n",
        "2 main rule that proforming matrix multlication needs to satisfy:\n",
        "1. the **inner dimensions** must match(靠内的两个数字相同能相乘):\n",
        "* (3,2)@(3,2) error\n",
        "* (3,2)@(2,3) work\n",
        "* (2,3)@(3,2) work\n",
        "\n",
        "2. the result of matrix multlication has the shape of **outer dimensions**(靠外的两个数字是结果的行列数):\n",
        "* (3,2)@(2,3) -> (3,3)\n",
        "* (2,3)@(3,2) -> (2,2)"
      ],
      "metadata": {
        "id": "qJWNwm_7AscU"
      }
    },
    {
      "cell_type": "code",
      "source": [
        "#element-wise\n",
        "print(tensor,\"*\",tensor)\n",
        "print(f\"equals:{tensor*tensor}\")\n"
      ],
      "metadata": {
        "colab": {
          "base_uri": "https://localhost:8080/"
        },
        "id": "f-pKJFePBC2K",
        "outputId": "e5a94b37-8493-4118-f283-9efab540fde7"
      },
      "execution_count": 33,
      "outputs": [
        {
          "output_type": "stream",
          "name": "stdout",
          "text": [
            "tensor([10, 20, 30]) * tensor([10, 20, 30])\n",
            "equals:tensor([100, 400, 900])\n"
          ]
        }
      ]
    },
    {
      "cell_type": "code",
      "source": [
        "tensor = torch.tensor([1,2,3])\n",
        "print(tensor)"
      ],
      "metadata": {
        "colab": {
          "base_uri": "https://localhost:8080/"
        },
        "id": "Fyhz3pXdBotV",
        "outputId": "44681fc2-25a2-4c4e-bb1a-5a2d32290a04"
      },
      "execution_count": 34,
      "outputs": [
        {
          "output_type": "stream",
          "name": "stdout",
          "text": [
            "tensor([1, 2, 3])\n"
          ]
        }
      ]
    },
    {
      "cell_type": "code",
      "source": [
        "#matrix multiplication\n",
        "%%time\n",
        "torch.matmul(tensor,tensor)"
      ],
      "metadata": {
        "colab": {
          "base_uri": "https://localhost:8080/"
        },
        "id": "99YQvC90Df7C",
        "outputId": "024854fb-6a1e-4148-b6a8-5da93633c41d"
      },
      "execution_count": 35,
      "outputs": [
        {
          "output_type": "stream",
          "name": "stdout",
          "text": [
            "CPU times: user 1.06 ms, sys: 994 µs, total: 2.05 ms\n",
            "Wall time: 10 ms\n"
          ]
        },
        {
          "output_type": "execute_result",
          "data": {
            "text/plain": [
              "tensor(14)"
            ]
          },
          "metadata": {},
          "execution_count": 35
        }
      ]
    },
    {
      "cell_type": "markdown",
      "source": [
        "**transpose**(转置矩阵)\n",
        "switches the axes or dimensions of a given tensor\n",
        "to fix the tensor shape issue"
      ],
      "metadata": {
        "id": "R7JKD0IoCWR1"
      }
    },
    {
      "cell_type": "code",
      "source": [
        "tensor_a = torch.tensor([[1,2],\n",
        "                        [3,4],\n",
        "                        [5,6]])\n",
        "tensor_b = torch.tensor([[7,8],\n",
        "                        [9,10],\n",
        "                        [11,12]])\n"
      ],
      "metadata": {
        "id": "Nz8hREhDD68C"
      },
      "execution_count": 37,
      "outputs": []
    },
    {
      "cell_type": "code",
      "source": [
        "#torch.matmul(tensor_a,tensor_b)->error (3,2)*(3,2)->error\n",
        "tensor_b"
      ],
      "metadata": {
        "colab": {
          "base_uri": "https://localhost:8080/"
        },
        "id": "_f-gUlLbCNX3",
        "outputId": "6b80bd71-658d-47bd-e4fe-9c411e436304"
      },
      "execution_count": 38,
      "outputs": [
        {
          "output_type": "execute_result",
          "data": {
            "text/plain": [
              "tensor([[ 7,  8],\n",
              "        [ 9, 10],\n",
              "        [11, 12]])"
            ]
          },
          "metadata": {},
          "execution_count": 38
        }
      ]
    },
    {
      "cell_type": "code",
      "source": [
        "tensor_b.T"
      ],
      "metadata": {
        "colab": {
          "base_uri": "https://localhost:8080/"
        },
        "id": "rJmVz5qbDI3q",
        "outputId": "eb337e9b-234a-4f19-b225-3e58540851da"
      },
      "execution_count": 40,
      "outputs": [
        {
          "output_type": "execute_result",
          "data": {
            "text/plain": [
              "tensor([[ 7,  9, 11],\n",
              "        [ 8, 10, 12]])"
            ]
          },
          "metadata": {},
          "execution_count": 40
        }
      ]
    },
    {
      "cell_type": "code",
      "source": [
        "torch.matmul(tensor_a,tensor_b.T)"
      ],
      "metadata": {
        "colab": {
          "base_uri": "https://localhost:8080/"
        },
        "id": "RXCSndt9DK8e",
        "outputId": "355b5cd0-4b0d-4762-fc2a-7dca659955ca"
      },
      "execution_count": 42,
      "outputs": [
        {
          "output_type": "execute_result",
          "data": {
            "text/plain": [
              "tensor([[ 23,  29,  35],\n",
              "        [ 53,  67,  81],\n",
              "        [ 83, 105, 127]])"
            ]
          },
          "metadata": {},
          "execution_count": 42
        }
      ]
    },
    {
      "cell_type": "code",
      "source": [],
      "metadata": {
        "id": "0BcLI5qIDWnC"
      },
      "execution_count": null,
      "outputs": []
    }
  ],
  "metadata": {
    "colab": {
      "provenance": [],
      "authorship_tag": "ABX9TyP1Z+EEWBosVQ2oQpHisRcF",
      "include_colab_link": true
    },
    "kernelspec": {
      "display_name": "Python 3",
      "name": "python3"
    },
    "language_info": {
      "name": "python"
    }
  },
  "nbformat": 4,
  "nbformat_minor": 0
}